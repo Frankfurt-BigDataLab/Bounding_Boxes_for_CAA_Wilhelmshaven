{
 "cells": [
  {
   "cell_type": "markdown",
   "metadata": {},
   "source": [
    "Sources:\n",
    "    https://github.com/tensorflow/models/blob/master/research/object_detection/object_detection_tutorial.ipynb\n",
    "    https://stackoverflow.com/questions/55204998/crop-and-select-only-the-detected-region-from-an-image-in-python\n",
    "    \n",
    "Edited by Sebastian Gampe"
   ]
  },
  {
   "cell_type": "code",
   "execution_count": 2,
   "metadata": {},
   "outputs": [],
   "source": [
    "import numpy as np\n",
    "import os\n",
    "import six.moves.urllib as urllib\n",
    "import sys\n",
    "import tarfile\n",
    "import tensorflow as tf\n",
    "import zipfile\n",
    "\n",
    "from distutils.version import StrictVersion\n",
    "from collections import defaultdict\n",
    "from io import StringIO\n",
    "from matplotlib import pyplot as plt\n",
    "from PIL import Image\n",
    "\n",
    "# This is needed since the notebook is stored in the object_detection folder.\n",
    "sys.path.append(\"..\")\n",
    "from object_detection.utils import ops as utils_ops\n",
    "\n",
    "if StrictVersion(tf.__version__) < StrictVersion('1.12.0'):\n",
    "    raise ImportError('Please upgrade your TensorFlow installation to v1.12.*.')"
   ]
  },
  {
   "cell_type": "code",
   "execution_count": 2,
   "metadata": {},
   "outputs": [],
   "source": [
    "# This is needed to display the images.\n",
    "%matplotlib inline\n",
    "\n",
    "\n",
    "from object_detection.utils import label_map_util\n",
    "\n",
    "from object_detection.utils import visualization_utils as vis_util"
   ]
  },
  {
   "cell_type": "code",
   "execution_count": 3,
   "metadata": {},
   "outputs": [],
   "source": [
    "# What model to download. ist alles schon unter Volume vorhanden, paths ändern!\n",
    "#MODEL_NAME = 'faster_rcnn_resnet101_coco_2018_01_28'\n",
    "#MODEL_FILE = MODEL_NAME + '.tar.gz'\n",
    "#DOWNLOAD_BASE = 'http://download.tensorflow.org/models/object_detection/'\n",
    "\n",
    "# Path to model\n",
    "PATH_TO_MODEL = '/home/user/.local/lib/python3.6/site-packages/tensorflow/models/research/object_detection/models/faster_rcnn_resnet101_coco_2018_01_28'\n",
    "\n",
    "# Path to frozen detection graph. This is the actual model that is used for the object detection.\n",
    "PATH_TO_FROZEN_GRAPH = '/home/user/portrait_separator/model/' + 'frozen_inference_graph.pb'\n",
    "\n",
    "# List of the strings that is used to add correct label for each box.\n",
    "PATH_TO_LABELS = '/home/user/portrait_separator/coin_label_map.pbtxt'"
   ]
  },
  {
   "cell_type": "code",
   "execution_count": 4,
   "metadata": {},
   "outputs": [],
   "source": [
    "# Only neccessary if you need the original model for a reason\n",
    "opener = urllib.request.URLopener()\n",
    "opener.retrieve(DOWNLOAD_BASE + MODEL_FILE, MODEL_FILE)\n",
    "tar_file = tarfile.open(MODEL_FILE)\n",
    "for file in tar_file.getmembers():\n",
    "    file_name = os.path.basename(file.name)\n",
    "    if 'frozen_inference_graph.pb' in file_name:\n",
    "        tar_file.extract(file, os.getcwd())"
   ]
  },
  {
   "cell_type": "code",
   "execution_count": 4,
   "metadata": {},
   "outputs": [],
   "source": [
    "# load the frozen graph\n",
    "detection_graph = tf.Graph()\n",
    "with detection_graph.as_default():\n",
    "    od_graph_def = tf.GraphDef()\n",
    "    with tf.gfile.GFile(PATH_TO_FROZEN_GRAPH, 'rb') as fid:\n",
    "        serialized_graph = fid.read()\n",
    "        od_graph_def.ParseFromString(serialized_graph)\n",
    "        tf.import_graph_def(od_graph_def, name='')"
   ]
  },
  {
   "cell_type": "code",
   "execution_count": 5,
   "metadata": {},
   "outputs": [
    {
     "name": "stdout",
     "output_type": "stream",
     "text": [
      "WARNING:tensorflow:From /home/cnt/.local/lib/python3.6/site-packages/tensorflow/models/research/object_detection/utils/label_map_util.py:138: The name tf.gfile.GFile is deprecated. Please use tf.io.gfile.GFile instead.\n",
      "\n"
     ]
    }
   ],
   "source": [
    "# labels\n",
    "category_index = label_map_util.create_category_index_from_labelmap(PATH_TO_LABELS, use_display_name=True)\n",
    "\n",
    "# image convert\n",
    "def load_image_into_numpy_array(image):\n",
    "    (im_width, im_height) = image.size\n",
    "    return np.array(image.getdata()).reshape(\n",
    "        (im_height, im_width, 3)).astype(np.uint8)"
   ]
  },
  {
   "cell_type": "code",
   "execution_count": 32,
   "metadata": {},
   "outputs": [],
   "source": [
    "# For the sake of simplicity we will use only 2 images:\n",
    "# image1.jpg\n",
    "# image2.jpg\n",
    "# If you want to test the code with your images, just add path to the images to the TEST_IMAGE_PATHS.\n",
    "#PATH_TO_TEST_IMAGES_DIR = '/opt/conda/lib/python3.6/site-packages/object_detection/test_images'\n",
    "PATH_TO_TEST_IMAGES_DIR = '/home/user/ML/Data/CoinPortraitData/train/augustus'\n",
    "TEST_IMAGE_PATHS = [ os.path.join(PATH_TO_TEST_IMAGES_DIR, 'augustus{}.png'.format(i)) for i in range(704, 820) ]\n",
    "\n",
    "PATH_TO_OUTPUT = '/home/user/ML/Data/CoinPortraitData/output'\n",
    "# Size, in inches, of the output images.\n",
    "IMAGE_SIZE = (12, 8)"
   ]
  },
  {
   "cell_type": "code",
   "execution_count": 6,
   "metadata": {},
   "outputs": [],
   "source": [
    "# Inference function\n",
    "def run_inference_for_single_image(image, graph):\n",
    "    with graph.as_default():\n",
    "        with tf.Session() as sess:\n",
    "            # Get handles to input and output tensors\n",
    "            ops = tf.get_default_graph().get_operations()\n",
    "            all_tensor_names = {output.name for op in ops for output in op.outputs}\n",
    "            tensor_dict = {}\n",
    "            for key in [\n",
    "                'num_detections', 'detection_boxes', 'detection_scores',\n",
    "                'detection_classes', 'detection_masks'\n",
    "            ]:\n",
    "                tensor_name = key + ':0'\n",
    "                if tensor_name in all_tensor_names:\n",
    "                    tensor_dict[key] = tf.get_default_graph().get_tensor_by_name(\n",
    "                    tensor_name)\n",
    "            if 'detection_masks' in tensor_dict:\n",
    "                # The following processing is only for single image\n",
    "                detection_boxes = tf.squeeze(tensor_dict['detection_boxes'], [0])\n",
    "                detection_masks = tf.squeeze(tensor_dict['detection_masks'], [0])\n",
    "                # Reframe is required to translate mask from box coordinates to image coordinates and fit the image size.\n",
    "                real_num_detection = tf.cast(tensor_dict['num_detections'][0], tf.int32)\n",
    "                detection_boxes = tf.slice(detection_boxes, [0, 0], [real_num_detection, -1])\n",
    "                detection_masks = tf.slice(detection_masks, [0, 0, 0], [real_num_detection, -1, -1])\n",
    "                detection_masks_reframed = utils_ops.reframe_box_masks_to_image_masks(\n",
    "                    detection_masks, detection_boxes, image.shape[1], image.shape[2])\n",
    "                detection_masks_reframed = tf.cast(\n",
    "                    tf.greater(detection_masks_reframed, 0.5), tf.uint8)\n",
    "                # Follow the convention by adding back the batch dimension\n",
    "                tensor_dict['detection_masks'] = tf.expand_dims(\n",
    "                    detection_masks_reframed, 0)\n",
    "            image_tensor = tf.get_default_graph().get_tensor_by_name('image_tensor:0')\n",
    "\n",
    "            # Run inference\n",
    "            output_dict = sess.run(tensor_dict,\n",
    "                                    feed_dict={image_tensor: image})\n",
    "\n",
    "            # all outputs are float32 numpy arrays, so convert types as appropriate\n",
    "            output_dict['num_detections'] = int(output_dict['num_detections'][0])\n",
    "            output_dict['detection_classes'] = output_dict[\n",
    "                'detection_classes'][0].astype(np.int64)\n",
    "            output_dict['detection_boxes'] = output_dict['detection_boxes'][0]\n",
    "            output_dict['detection_scores'] = output_dict['detection_scores'][0]\n",
    "            if 'detection_masks' in output_dict:\n",
    "                output_dict['detection_masks'] = output_dict['detection_masks'][0]\n",
    "    return output_dict"
   ]
  },
  {
   "cell_type": "code",
   "execution_count": 7,
   "metadata": {},
   "outputs": [],
   "source": [
    "# Seperates the inside of the box the rest of the image\n",
    "def seperate_box_from_image(image_np, output_dict):\n",
    "    img_height, img_width, img_channel = image_np.shape\n",
    "    absolute_coord = []\n",
    "    THRESHOLD = 0.7 # adjust your threshold here\n",
    "    N = len(output_dict['detection_boxes'])\n",
    "    for i in range(N):\n",
    "        if output_dict['detection_scores'][i] < THRESHOLD:\n",
    "            continue\n",
    "        box = output_dict['detection_boxes'][i]\n",
    "        ymin, xmin, ymax, xmax = box\n",
    "        x_up = int(xmin*img_width)\n",
    "        y_up = int(ymin*img_height)\n",
    "        x_down = int(xmax*img_width)\n",
    "        y_down = int(ymax*img_height)\n",
    "        absolute_coord.append((x_up,y_up,x_down,y_down))\n",
    "    \n",
    "    bounding_box_img = []\n",
    "    for c in absolute_coord:\n",
    "        bounding_box_img.append(image_np[c[1]:c[3], c[0]:c[2],:])\n",
    "    return bounding_box_img "
   ]
  },
  {
   "cell_type": "code",
   "execution_count": 20,
   "metadata": {},
   "outputs": [],
   "source": [
    "data_dir = '/home/user/ML/Data/CoinPortraitData/train/'\n",
    "output_path = '/home/user/ML/Data/CoinPortraitData/output'\n",
    "\n",
    "# List all image files (.jpg or .png or .tif) in subfolders of dir\n",
    "def list_files(data_dir):\n",
    "    r = []                                                                                                                                                                                                      \n",
    "    for dirpath, subdir, files in os.walk(data_dir):\n",
    "        for file in files:\n",
    "            if (file.endswith(\".jpg\")) or (file.endswith(\".png\")) or (file.endswith(\".tif\")): \n",
    "                r.append(os.path.join(dirpath, file)) \n",
    "    #for k in range(10):\n",
    "        #print(r[k])\n",
    "    return r \n",
    "\n",
    "files = list_files(data_dir)\n",
    "files.sort()\n",
    "IMAGE_SIZE = (12, 8)"
   ]
  },
  {
   "cell_type": "code",
   "execution_count": 21,
   "metadata": {},
   "outputs": [
    {
     "name": "stdout",
     "output_type": "stream",
     "text": [
      "5.jpg\n"
     ]
    }
   ],
   "source": [
    "# Uses the inference function on every picture in the given path\n",
    "for image_path in files:\n",
    "    try:\n",
    "        image = Image.open(image_path)\n",
    "    except OSError:\n",
    "        continue\n",
    "    \n",
    "    # make folders for the boxed images\n",
    "    pathWords = image_path.split('/')\n",
    "    emperor = pathWords[len(pathWords)-2]\n",
    "    file_name = pathWords[len(pathWords)-1]\n",
    "    file_name = file_name.replace('.png','')\n",
    "    emperor_output = output_path + '/' + emperor +'/'\n",
    "    emperor_output_cropped =  emperor_output + '/cropped/'\n",
    "    \n",
    "    if not os.path.exists(emperor_output):\n",
    "        os.makedirs(emperor_output)\n",
    "        os.makedirs(emperor_output_cropped)\n",
    "        \n",
    "    # the array based representation of the image will be used later in order to prepare the\n",
    "    # result image with boxes and labels on it.\n",
    "    try:\n",
    "        image_np = load_image_into_numpy_array(image)\n",
    "    except ValueError:\n",
    "        continue\n",
    "        \n",
    "    # Expand dimensions since the model expects images to have shape: [1, None, None, 3]\n",
    "    image_np_expanded = np.expand_dims(image_np, axis=0)\n",
    "    # Actual detection.\n",
    "    output_dict = run_inference_for_single_image(image_np_expanded, detection_graph)\n",
    "    # Crop the contents of the bounding box\n",
    "    image_np2 = seperate_box_from_image(image_np, output_dict)\n",
    "    # Visualization of the results of a detection.\n",
    "    vis_util.visualize_boxes_and_labels_on_image_array(\n",
    "        image_np,\n",
    "        output_dict['detection_boxes'],\n",
    "        output_dict['detection_classes'],\n",
    "        output_dict['detection_scores'],\n",
    "        category_index,\n",
    "        instance_masks=output_dict.get('detection_masks'),\n",
    "        use_normalized_coordinates=True,\n",
    "        line_thickness=0)\n",
    "    plt.figure(figsize=IMAGE_SIZE)\n",
    "    #plt.imshow(image_np)\n",
    "    \n",
    "    # save the images\n",
    "    try:\n",
    "        im2 = Image.fromarray(image_np)\n",
    "        #im2.save(emperor_output + emperor + str(i) + '.jpg')\n",
    "        im2.save(emperor_output + file_name + '.jpg')\n",
    "        #plt.savefig(PATH_TO_OUTPUT + '/augustus/augustus' + str(i) + '.jpg')\n",
    "        im = Image.fromarray(image_np2[0])\n",
    "        #im.save(emperor_output_cropped + emperor + '_cr' + str(i) + '.jpg')\n",
    "        im.save(emperor_output_cropped + file_name + '.jpg')\n",
    "        \n",
    "    except IndexError:\n",
    "        continue\n",
    "    except ValueError:\n",
    "        continue\n",
    "        \n",
    "    plt.close('all')\n",
    "        \n",
    "plt.show()\n",
    "print(str(i) + '.jpg')\n",
    "plt.close()"
   ]
  },
  {
   "cell_type": "code",
   "execution_count": null,
   "metadata": {},
   "outputs": [],
   "source": []
  },
  {
   "cell_type": "code",
   "execution_count": null,
   "metadata": {},
   "outputs": [],
   "source": []
  }
 ],
 "metadata": {
  "kernelspec": {
   "display_name": "Python 3",
   "language": "python",
   "name": "python3"
  },
  "language_info": {
   "codemirror_mode": {
    "name": "ipython",
    "version": 3
   },
   "file_extension": ".py",
   "mimetype": "text/x-python",
   "name": "python",
   "nbconvert_exporter": "python",
   "pygments_lexer": "ipython3",
   "version": "3.7.6"
  }
 },
 "nbformat": 4,
 "nbformat_minor": 2
}
